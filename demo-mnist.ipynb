{
 "cells": [
  {
   "cell_type": "code",
   "execution_count": 28,
   "metadata": {
    "collapsed": true
   },
   "outputs": [],
   "source": [
    "import tensorflow as tf\n",
    "from keras.layers import Dense\n",
    "from keras.models import Sequential\n",
    "from keras.activations import relu, linear, sigmoid\n",
    "import matplotlib.pyplot as plt\n",
    "from sklearn.datasets import load_digits"
   ]
  },
  {
   "cell_type": "code",
   "execution_count": 29,
   "outputs": [
    {
     "data": {
      "text/plain": "dict_keys(['data', 'target', 'frame', 'feature_names', 'target_names', 'images', 'DESCR'])"
     },
     "execution_count": 29,
     "metadata": {},
     "output_type": "execute_result"
    }
   ],
   "source": [
    "mnist = load_digits()\n",
    "mnist.keys()"
   ],
   "metadata": {
    "collapsed": false
   }
  },
  {
   "cell_type": "markdown",
   "source": [
    "Check the images of the dataset"
   ],
   "metadata": {
    "collapsed": false
   }
  },
  {
   "cell_type": "code",
   "execution_count": 30,
   "outputs": [
    {
     "data": {
      "text/plain": "<Figure size 640x480 with 10 Axes>",
      "image/png": "[encoded data removed]"
     },
     "metadata": {},
     "output_type": "display_data"
    }
   ],
   "source": [
    "fig, axs = plt.subplots(2,5)\n",
    "for i in range(2):\n",
    "    for j in range(5):\n",
    "        index = 5*i + j\n",
    "        axs[i, j].axis('off')\n",
    "        axs[i, j].text(3,-1,f'{index}')\n",
    "        axs[i, j].imshow(mnist.images[index], cmap='gray')"
   ],
   "metadata": {
    "collapsed": false
   }
  },
  {
   "cell_type": "code",
   "execution_count": 31,
   "outputs": [],
   "source": [
    "x = mnist.data\n",
    "y = mnist.target"
   ],
   "metadata": {
    "collapsed": false
   }
  },
  {
   "cell_type": "markdown",
   "source": [
    "check the whole size of the data and target"
   ],
   "metadata": {
    "collapsed": false
   }
  },
  {
   "cell_type": "code",
   "execution_count": 32,
   "outputs": [
    {
     "name": "stdout",
     "output_type": "stream",
     "text": [
      "MNIST:\n",
      "\tx.shape = (1797, 64)\n",
      "\ty.shape = (1797,)\n"
     ]
    }
   ],
   "source": [
    "print(f'MNIST:\\n\\tx.shape = {x.shape}\\n\\ty.shape = {y.shape}')"
   ],
   "metadata": {
    "collapsed": false
   }
  },
  {
   "cell_type": "markdown",
   "source": [
    "take 1300 of them as training set,\n",
    "and  400 of them as validation set."
   ],
   "metadata": {
    "collapsed": false
   }
  },
  {
   "cell_type": "code",
   "execution_count": 33,
   "outputs": [
    {
     "name": "stdout",
     "output_type": "stream",
     "text": [
      "TRAINING:\n",
      "\tx.shape = (1300, 64)\n",
      "\ty.shape = (1300,)\n",
      "VALIDATION:\n",
      "\tx.shape = (400, 64)\n",
      "\ty.shape = (400,)\n"
     ]
    }
   ],
   "source": [
    "x_train = x[:1300]\n",
    "y_train = y[:1300]\n",
    "x_valid = x[1300:1700]\n",
    "y_valid = y[1300:1700]\n",
    "print(f'TRAINING:\\n\\tx.shape = {x_train.shape}\\n\\ty.shape = {y_train.shape}')\n",
    "print(f'VALIDATION:\\n\\tx.shape = {x_valid.shape}\\n\\ty.shape = {y_valid.shape}')"
   ],
   "metadata": {
    "collapsed": false
   }
  },
  {
   "cell_type": "markdown",
   "source": [
    "# Define the model"
   ],
   "metadata": {
    "collapsed": false
   }
  },
  {
   "cell_type": "code",
   "execution_count": 34,
   "outputs": [
    {
     "name": "stdout",
     "output_type": "stream",
     "text": [
      "Model: \"my_model\"\n",
      "_________________________________________________________________\n",
      " Layer (type)                Output Shape              Param #   \n",
      "=================================================================\n",
      " dense_3 (Dense)             (None, 25)                1625      \n",
      "                                                                 \n",
      " dense_4 (Dense)             (None, 15)                390       \n",
      "                                                                 \n",
      " dense_5 (Dense)             (None, 10)                160       \n",
      "                                                                 \n",
      "=================================================================\n",
      "Total params: 2,175\n",
      "Trainable params: 2,175\n",
      "Non-trainable params: 0\n",
      "_________________________________________________________________\n"
     ]
    }
   ],
   "source": [
    "model = Sequential([\n",
    "    tf.keras.Input(shape=(64,)),\n",
    "    Dense(units=25, activation='relu'),\n",
    "    Dense(units=15, activation='relu'),\n",
    "    Dense(units=10, activation='linear'),\n",
    "], name='my_model')\n",
    "model.summary()"
   ],
   "metadata": {
    "collapsed": false
   }
  },
  {
   "cell_type": "markdown",
   "source": [
    "# Compile and Fit"
   ],
   "metadata": {
    "collapsed": false
   }
  },
  {
   "cell_type": "code",
   "execution_count": 44,
   "outputs": [
    {
     "name": "stdout",
     "output_type": "stream",
     "text": [
      "Epoch 1/80\n",
      "41/41 [==============================] - 0s 1ms/step - loss: 1.8218e-04\n",
      "Epoch 2/80\n",
      "41/41 [==============================] - 0s 1ms/step - loss: 4.5285e-04\n",
      "Epoch 3/80\n",
      "41/41 [==============================] - 0s 1ms/step - loss: 1.5095e-04\n",
      "Epoch 4/80\n",
      "41/41 [==============================] - 0s 1ms/step - loss: 5.2250e-05\n",
      "Epoch 5/80\n",
      "41/41 [==============================] - 0s 1ms/step - loss: 3.4939e-05\n",
      "Epoch 6/80\n",
      "41/41 [==============================] - 0s 1ms/step - loss: 3.1994e-05\n",
      "Epoch 7/80\n",
      "41/41 [==============================] - 0s 990us/step - loss: 3.0473e-05\n",
      "Epoch 8/80\n",
      "41/41 [==============================] - 0s 992us/step - loss: 2.8477e-05\n",
      "Epoch 9/80\n",
      "41/41 [==============================] - 0s 1ms/step - loss: 2.6520e-05\n",
      "Epoch 10/80\n",
      "41/41 [==============================] - 0s 1ms/step - loss: 2.5926e-05\n",
      "Epoch 11/80\n",
      "41/41 [==============================] - 0s 966us/step - loss: 2.4020e-05\n",
      "Epoch 12/80\n",
      "41/41 [==============================] - 0s 945us/step - loss: 2.2474e-05\n",
      "Epoch 13/80\n",
      "41/41 [==============================] - 0s 905us/step - loss: 2.1979e-05\n",
      "Epoch 14/80\n",
      "41/41 [==============================] - 0s 933us/step - loss: 2.1107e-05\n",
      "Epoch 15/80\n",
      "41/41 [==============================] - 0s 997us/step - loss: 1.9176e-05\n",
      "Epoch 16/80\n",
      "41/41 [==============================] - 0s 1ms/step - loss: 1.9035e-05\n",
      "Epoch 17/80\n",
      "41/41 [==============================] - 0s 988us/step - loss: 1.7609e-05\n",
      "Epoch 18/80\n",
      "41/41 [==============================] - 0s 931us/step - loss: 1.7051e-05\n",
      "Epoch 19/80\n",
      "41/41 [==============================] - 0s 916us/step - loss: 1.6220e-05\n",
      "Epoch 20/80\n",
      "41/41 [==============================] - 0s 914us/step - loss: 1.5240e-05\n",
      "Epoch 21/80\n",
      "41/41 [==============================] - 0s 942us/step - loss: 1.5087e-05\n",
      "Epoch 22/80\n",
      "41/41 [==============================] - 0s 945us/step - loss: 1.3986e-05\n",
      "Epoch 23/80\n",
      "41/41 [==============================] - 0s 913us/step - loss: 1.3846e-05\n",
      "Epoch 24/80\n",
      "41/41 [==============================] - 0s 895us/step - loss: 1.3499e-05\n",
      "Epoch 25/80\n",
      "41/41 [==============================] - 0s 918us/step - loss: 1.2638e-05\n",
      "Epoch 26/80\n",
      "41/41 [==============================] - 0s 1ms/step - loss: 1.1917e-05\n",
      "Epoch 27/80\n",
      "41/41 [==============================] - 0s 1ms/step - loss: 1.1357e-05\n",
      "Epoch 28/80\n",
      "41/41 [==============================] - 0s 984us/step - loss: 1.0895e-05\n",
      "Epoch 29/80\n",
      "41/41 [==============================] - 0s 964us/step - loss: 1.0896e-05\n",
      "Epoch 30/80\n",
      "41/41 [==============================] - 0s 948us/step - loss: 1.0014e-05\n",
      "Epoch 31/80\n",
      "41/41 [==============================] - 0s 966us/step - loss: 9.7041e-06\n",
      "Epoch 32/80\n",
      "41/41 [==============================] - 0s 941us/step - loss: 9.3286e-06\n",
      "Epoch 33/80\n",
      "41/41 [==============================] - 0s 975us/step - loss: 9.0007e-06\n",
      "Epoch 34/80\n",
      "41/41 [==============================] - 0s 1ms/step - loss: 8.6599e-06\n",
      "Epoch 35/80\n",
      "41/41 [==============================] - 0s 975us/step - loss: 8.4068e-06\n",
      "Epoch 36/80\n",
      "41/41 [==============================] - 0s 923us/step - loss: 8.0189e-06\n",
      "Epoch 37/80\n",
      "41/41 [==============================] - 0s 916us/step - loss: 8.0297e-06\n",
      "Epoch 38/80\n",
      "41/41 [==============================] - 0s 925us/step - loss: 7.7690e-06\n",
      "Epoch 39/80\n",
      "41/41 [==============================] - 0s 868us/step - loss: 7.1885e-06\n",
      "Epoch 40/80\n",
      "41/41 [==============================] - 0s 865us/step - loss: 6.9759e-06\n",
      "Epoch 41/80\n",
      "41/41 [==============================] - 0s 935us/step - loss: 6.7597e-06\n",
      "Epoch 42/80\n",
      "41/41 [==============================] - 0s 966us/step - loss: 6.4636e-06\n",
      "Epoch 43/80\n",
      "41/41 [==============================] - 0s 940us/step - loss: 6.2189e-06\n",
      "Epoch 44/80\n",
      "41/41 [==============================] - 0s 914us/step - loss: 5.9832e-06\n",
      "Epoch 45/80\n",
      "41/41 [==============================] - 0s 916us/step - loss: 5.9788e-06\n",
      "Epoch 46/80\n",
      "41/41 [==============================] - 0s 913us/step - loss: 5.7826e-06\n",
      "Epoch 47/80\n",
      "41/41 [==============================] - 0s 937us/step - loss: 5.4414e-06\n",
      "Epoch 48/80\n",
      "41/41 [==============================] - 0s 915us/step - loss: 5.3145e-06\n",
      "Epoch 49/80\n",
      "41/41 [==============================] - 0s 955us/step - loss: 5.0958e-06\n",
      "Epoch 50/80\n",
      "41/41 [==============================] - 0s 950us/step - loss: 4.9128e-06\n",
      "Epoch 51/80\n",
      "41/41 [==============================] - 0s 965us/step - loss: 4.7786e-06\n",
      "Epoch 52/80\n",
      "41/41 [==============================] - 0s 956us/step - loss: 4.6015e-06\n",
      "Epoch 53/80\n",
      "41/41 [==============================] - 0s 962us/step - loss: 4.4810e-06\n",
      "Epoch 54/80\n",
      "41/41 [==============================] - 0s 940us/step - loss: 4.3583e-06\n",
      "Epoch 55/80\n",
      "41/41 [==============================] - 0s 973us/step - loss: 4.2490e-06\n",
      "Epoch 56/80\n",
      "41/41 [==============================] - 0s 990us/step - loss: 4.1175e-06\n",
      "Epoch 57/80\n",
      "41/41 [==============================] - 0s 966us/step - loss: 3.8869e-06\n",
      "Epoch 58/80\n",
      "41/41 [==============================] - 0s 941us/step - loss: 3.8085e-06\n",
      "Epoch 59/80\n",
      "41/41 [==============================] - 0s 946us/step - loss: 3.6579e-06\n",
      "Epoch 60/80\n",
      "41/41 [==============================] - 0s 921us/step - loss: 3.6044e-06\n",
      "Epoch 61/80\n",
      "41/41 [==============================] - 0s 938us/step - loss: 3.4644e-06\n",
      "Epoch 62/80\n",
      "41/41 [==============================] - 0s 931us/step - loss: 3.3916e-06\n",
      "Epoch 63/80\n",
      "41/41 [==============================] - 0s 968us/step - loss: 3.3222e-06\n",
      "Epoch 64/80\n",
      "41/41 [==============================] - 0s 966us/step - loss: 3.1906e-06\n",
      "Epoch 65/80\n",
      "41/41 [==============================] - 0s 959us/step - loss: 3.0501e-06\n",
      "Epoch 66/80\n",
      "41/41 [==============================] - 0s 960us/step - loss: 2.9860e-06\n",
      "Epoch 67/80\n",
      "41/41 [==============================] - 0s 901us/step - loss: 2.9615e-06\n",
      "Epoch 68/80\n",
      "41/41 [==============================] - 0s 892us/step - loss: 2.8866e-06\n",
      "Epoch 69/80\n",
      "41/41 [==============================] - 0s 963us/step - loss: 2.7491e-06\n",
      "Epoch 70/80\n",
      "41/41 [==============================] - 0s 892us/step - loss: 2.6794e-06\n",
      "Epoch 71/80\n",
      "41/41 [==============================] - 0s 922us/step - loss: 2.5795e-06\n",
      "Epoch 72/80\n",
      "41/41 [==============================] - 0s 935us/step - loss: 2.4998e-06\n",
      "Epoch 73/80\n",
      "41/41 [==============================] - 0s 990us/step - loss: 2.4622e-06\n",
      "Epoch 74/80\n",
      "41/41 [==============================] - 0s 972us/step - loss: 2.4016e-06\n",
      "Epoch 75/80\n",
      "41/41 [==============================] - 0s 1ms/step - loss: 2.2844e-06\n",
      "Epoch 76/80\n",
      "41/41 [==============================] - 0s 1ms/step - loss: 2.2847e-06\n",
      "Epoch 77/80\n",
      "41/41 [==============================] - 0s 969us/step - loss: 2.1865e-06\n",
      "Epoch 78/80\n",
      "41/41 [==============================] - 0s 919us/step - loss: 2.0873e-06\n",
      "Epoch 79/80\n",
      "41/41 [==============================] - 0s 959us/step - loss: 2.0442e-06\n",
      "Epoch 80/80\n",
      "41/41 [==============================] - 0s 942us/step - loss: 2.0076e-06\n"
     ]
    }
   ],
   "source": [
    "epochs = 80\n",
    "model.compile(\n",
    "    loss=tf.keras.losses.SparseCategoricalCrossentropy(from_logits=True),\n",
    "    optimizer=tf.keras.optimizers.Adam(0.001)\n",
    ")\n",
    "history = model.fit(x_train, y_train, epochs=epochs)"
   ],
   "metadata": {
    "collapsed": false
   }
  },
  {
   "cell_type": "markdown",
   "source": [
    "# Plot the loss history"
   ],
   "metadata": {
    "collapsed": false
   }
  },
  {
   "cell_type": "code",
   "execution_count": 45,
   "outputs": [
    {
     "data": {
      "text/plain": "<Figure size 640x480 with 1 Axes>",
      "image/png": "[encoded data removed]"
     },
     "metadata": {},
     "output_type": "display_data"
    }
   ],
   "source": [
    "plt.plot(history.epoch, history.history['loss'])\n",
    "plt.title('history')\n",
    "plt.xlabel('epoch')\n",
    "plt.ylabel('loss')\n",
    "plt.show()"
   ],
   "metadata": {
    "collapsed": false
   }
  },
  {
   "cell_type": "markdown",
   "source": [
    "# Predict and calculate the accuracy rate"
   ],
   "metadata": {
    "collapsed": false
   }
  },
  {
   "cell_type": "code",
   "execution_count": 46,
   "outputs": [
    {
     "name": "stdout",
     "output_type": "stream",
     "text": [
      "13/13 [==============================] - 0s 862us/step\n",
      "accuracy rate = 93.25%\n"
     ]
    }
   ],
   "source": [
    "predict = model.predict(x_valid.reshape((-1,64)))\n",
    "result = tf.nn.softmax(predict)\n",
    "res = tf.math.argmax(result,axis=1).numpy()\n",
    "count = 0\n",
    "for index in range(res.shape[0]):\n",
    "    if y_valid[index] == res[index]:\n",
    "        count+=1\n",
    "print(f\"accuracy rate = {count/4}%\")"
   ],
   "metadata": {
    "collapsed": false
   }
  },
  {
   "cell_type": "code",
   "execution_count": 10,
   "outputs": [],
   "source": [],
   "metadata": {
    "collapsed": false
   }
  }
 ],
 "metadata": {
  "kernelspec": {
   "display_name": "Python 3",
   "language": "python",
   "name": "python3"
  },
  "language_info": {
   "codemirror_mode": {
    "name": "ipython",
    "version": 2
   },
   "file_extension": ".py",
   "mimetype": "text/x-python",
   "name": "python",
   "nbconvert_exporter": "python",
   "pygments_lexer": "ipython2",
   "version": "2.7.6"
  }
 },
 "nbformat": 4,
 "nbformat_minor": 0
}
