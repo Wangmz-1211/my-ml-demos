{
 "cells": [
  {
   "cell_type": "code",
   "execution_count": 59,
   "metadata": {
    "collapsed": true
   },
   "outputs": [],
   "source": [
    "import numpy as np"
   ]
  },
  {
   "cell_type": "markdown",
   "source": [
    "# Decision Tree Node"
   ],
   "metadata": {
    "collapsed": false
   }
  },
  {
   "cell_type": "code",
   "execution_count": 139,
   "outputs": [],
   "source": [
    "class Node:\n",
    "    # chose-able feature in this node, 1 is chose-able\n",
    "    features = []\n",
    "    # chosen feature id\n",
    "    feature_id = -1\n",
    "    # chosen feature name\n",
    "    feature_name = ''\n",
    "    # the data needs to make decision in this node\n",
    "    data = None\n",
    "    data_left = None\n",
    "    data_right = None\n",
    "    # the entrophy of the self.data\n",
    "    entrophy = 1\n",
    "    # the entrophy of split data\n",
    "    entrophy_sub = 1\n",
    "    # node depth\n",
    "    depth = 1\n",
    "    # node type 0:mid\\ 1:leaf\n",
    "    node_type = 0\n",
    "    # threshold\n",
    "    threshold = 0.2\n",
    "    max_depth = 5\n",
    "    # sub nodes\n",
    "    node_left = None\n",
    "    node_right = None\n",
    "    # for leaf node\n",
    "    result = -1\n",
    "\n",
    "    def H(self, x: float):\n",
    "        \"\"\"\n",
    "        calculate the entropy of the number\n",
    "        :param x: the positive ratio\n",
    "        :return: the H(x), entropy of x\n",
    "        \"\"\"\n",
    "        if x == 0.0 or x == 1.0:\n",
    "            return 0\n",
    "        h = - x * np.log2(x) - (1 - x) * np.log2(1 - x)\n",
    "        return h\n",
    "\n",
    "    def calculate_sub_entrophy(self, data_pos, data_neg) -> float:\n",
    "        \"\"\"\n",
    "        calculate the entrophy of spliting by a feature\n",
    "        :param data_pos: pos data of the feature\n",
    "        :param data_neg: neg data of the feature\n",
    "        :return: entrophy\n",
    "        \"\"\"\n",
    "        pos_pos = 0\n",
    "        neg_pos = 0\n",
    "        pos_amount = len(data_pos)\n",
    "        neg_amount = len(data_neg)\n",
    "        total_amount = pos_amount + neg_amount\n",
    "        wp = pos_amount / total_amount\n",
    "        wn = neg_amount / total_amount\n",
    "        for data_id in range(pos_amount):\n",
    "            if data_pos[data_id][-1] == 1:\n",
    "                pos_pos += 1\n",
    "        for data_id in range(neg_amount):\n",
    "            if data_neg[data_id][-1] == 1:\n",
    "                neg_pos += 1\n",
    "        p1 = pos_pos / pos_amount\n",
    "        p2 = neg_pos / neg_amount\n",
    "        entrophy = wp * self.H(p1) + wn * self.H(p2)\n",
    "        return entrophy\n",
    "\n",
    "    def choose_feature(self):\n",
    "        \"\"\"\n",
    "        Choose the best feature to split the data in this node.\n",
    "        :update:\n",
    "                - self.features\n",
    "                - self.feature_id\n",
    "                - self.feature_name\n",
    "                - self.entrophy_sub\n",
    "        :return: None\n",
    "        \"\"\"\n",
    "        if self.entrophy == 0:\n",
    "            self.result = self.data[0][-1]\n",
    "            self.node_type = 1\n",
    "            return\n",
    "        feature_len = len(self.features)\n",
    "        data_len = len(self.data)\n",
    "        entrophy_min = 1\n",
    "        chosen_feature_id = -1\n",
    "        data_left = None\n",
    "        data_right = None\n",
    "        for feature_id in range(feature_len):\n",
    "            # feature haven't been used yet\n",
    "            if self.features[feature_id] == 1:\n",
    "                data_neg = []\n",
    "                data_pos = []\n",
    "                for data_id in range(data_len):\n",
    "                    if self.data[data_id][feature_id] == 0:\n",
    "                        data_neg.append(self.data[data_id])\n",
    "                    else:\n",
    "                        data_pos.append(self.data[data_id])\n",
    "                entrophy = self.calculate_sub_entrophy(data_pos, data_neg)\n",
    "                # update the chosen feature\n",
    "                if entrophy < entrophy_min:\n",
    "                    chosen_feature_id = feature_id\n",
    "                    entrophy_min = entrophy\n",
    "                    data_left = data_pos\n",
    "                    data_right = data_neg\n",
    "        self.data_left = data_left\n",
    "        self.data_right = data_right\n",
    "        self.feature_id = chosen_feature_id\n",
    "        if self.feature_id >= 0:\n",
    "            self.feature_name = feature_name[chosen_feature_id]\n",
    "        self.features[chosen_feature_id] = 0\n",
    "        self.entrophy_sub = entrophy_min\n",
    "        information_gain = self.entrophy - entrophy_min\n",
    "        if information_gain <= self.threshold:\n",
    "            self.node_type = 1\n",
    "            # here may exist bug\n",
    "            self.result = self.data[0][-1]\n",
    "\n",
    "    def calculate_self_entrophy(self) -> float:\n",
    "        \"\"\"\n",
    "        calculate the entrophy, base on self data\n",
    "        :return: entrophy\n",
    "        \"\"\"\n",
    "        data_amount = len(self.data)\n",
    "        pos_count = 0\n",
    "        for data_id in range(data_amount):\n",
    "            if self.data[data_id][-1] == 1:\n",
    "                pos_count += 1\n",
    "        p = pos_count / data_amount\n",
    "        entrophy = self.H(p)\n",
    "        self.entrophy = entrophy\n",
    "        return entrophy\n",
    "\n",
    "    def split(self):\n",
    "        self.node_left = None\n",
    "        self.node_right = None\n",
    "        if self.depth == self.max_depth \\\n",
    "                or \\\n",
    "                self.node_type == 1:\n",
    "            return self.node_left, self.node_right\n",
    "        self.node_left = Node(self.data_left, self.features)\n",
    "        self.node_right = Node(self.data_right, self.features)\n",
    "        self.node_left.depth = self.depth + 1\n",
    "        self.node_right.depth = self.depth + 1\n",
    "        self.node_left.max_depth = self.max_depth\n",
    "        self.node_right.max_depth = self.max_depth\n",
    "        self.node_left.threshold = self.threshold\n",
    "        self.node_right.threshold = self.threshold\n",
    "        return self.node_left, self.node_right\n",
    "\n",
    "    def __init__(self, data, features):\n",
    "        self.features = np.copy(features)\n",
    "        self.data = data\n",
    "        self.calculate_self_entrophy()\n",
    "        self.choose_feature()\n",
    "\n",
    "    def __str__(self):\n",
    "        if self.node_type == 0:\n",
    "            return f\"feature: {self.feature_name}\"\n",
    "            # return f\"data:\\n{self.data}\\n\" \\\n",
    "            #    f\"features:\\n{self.features}\\n\" \\\n",
    "            #    f\"feature id:\\t{self.feature_id}\\n\" \\\n",
    "            #    f\"feature name:\\t{self.feature_name}\\n\" \\\n",
    "            #    f\"entrophy:\\t{self.entrophy}\\n\" \\\n",
    "            #    f\"entrophy_sub:\\t{self.entrophy_sub}\"\n",
    "        else:\n",
    "            return f\"result: {self.result}\""
   ],
   "metadata": {
    "collapsed": false
   }
  },
  {
   "cell_type": "markdown",
   "source": [
    "# DFS function"
   ],
   "metadata": {
    "collapsed": false
   }
  },
  {
   "cell_type": "code",
   "execution_count": 140,
   "outputs": [],
   "source": [
    "def dfs(node: Node):\n",
    "    if node == None:\n",
    "        return\n",
    "    node_left, node_right = node.split()\n",
    "    dfs(node_left)\n",
    "    dfs(node_right)"
   ],
   "metadata": {
    "collapsed": false
   }
  },
  {
   "cell_type": "markdown",
   "source": [
    "# Cat classification example\n",
    "\n",
    "| Ear shape(Pointy) | Face shape(Round) | Whickers(Present) | Cat  |\n",
    "| ----------------- | ----------------- | ----------------- | ---- |\n",
    "| 1                 | 1                 | 1                 | 1    |\n",
    "| 0                 | 0                 | 1                 | 1    |\n",
    "| 0                 | 1                 | 0                 | 0    |\n",
    "| 1                 | 0                 | 1                 | 0    |\n",
    "| 1                 | 1                 | 1                 | 1    |\n",
    "| 1                 | 1                 | 0                 | 1    |\n",
    "| 0                 | 0                 | 0                 | 0    |\n",
    "| 1                 | 1                 | 0                 | 1    |\n",
    "| 0                 | 1                 | 0                 | 0    |\n",
    "| 0                 | 1                 | 0                 | 0    |\n",
    "\n"
   ],
   "metadata": {
    "collapsed": false
   }
  },
  {
   "cell_type": "code",
   "execution_count": 141,
   "outputs": [],
   "source": [
    "data = np.array([\n",
    "    [1, 1, 1, 1],\n",
    "    [0, 0, 1, 1],\n",
    "    [0, 1, 0, 0],\n",
    "    [1, 0, 1, 0],\n",
    "    [1, 1, 1, 1],\n",
    "    [1, 1, 0, 1],\n",
    "    [0, 0, 0, 0],\n",
    "    [1, 1, 0, 1],\n",
    "    [0, 1, 0, 0],\n",
    "    [0, 1, 0, 0],\n",
    "], dtype=int)\n",
    "feature_name = ['Ear shape', 'Face shape', 'Whiskers']\n",
    "feature = [1, 1, 1]"
   ],
   "metadata": {
    "collapsed": false
   }
  },
  {
   "cell_type": "code",
   "execution_count": 149,
   "outputs": [],
   "source": [
    "root = Node(data, [1, 1, 1])\n",
    "root.max_depth = 3\n",
    "root.threshold = 0.05"
   ],
   "metadata": {
    "collapsed": false
   }
  },
  {
   "cell_type": "code",
   "execution_count": 150,
   "outputs": [],
   "source": [
    "dfs(root)"
   ],
   "metadata": {
    "collapsed": false
   }
  },
  {
   "cell_type": "code",
   "execution_count": 151,
   "outputs": [
    {
     "name": "stdout",
     "output_type": "stream",
     "text": [
      "feature: Ear shape \n",
      "\n",
      "feature: Face shape\n",
      "feature: Whiskers \n",
      "\n",
      "result: 1\n",
      "result: 0\n",
      "result: 1\n",
      "result: 0\n"
     ]
    }
   ],
   "source": [
    "print(root, '\\n')\n",
    "print(root.node_left)\n",
    "print(root.node_right, '\\n')\n",
    "print(root.node_left.node_left)\n",
    "print(root.node_left.node_right)\n",
    "print(root.node_right.node_left)\n",
    "print(root.node_right.node_right)"
   ],
   "metadata": {
    "collapsed": false
   }
  },
  {
   "cell_type": "code",
   "execution_count": null,
   "outputs": [],
   "source": [],
   "metadata": {
    "collapsed": false
   }
  }
 ],
 "metadata": {
  "kernelspec": {
   "display_name": "Python 3",
   "language": "python",
   "name": "python3"
  },
  "language_info": {
   "codemirror_mode": {
    "name": "ipython",
    "version": 2
   },
   "file_extension": ".py",
   "mimetype": "text/x-python",
   "name": "python",
   "nbconvert_exporter": "python",
   "pygments_lexer": "ipython2",
   "version": "2.7.6"
  }
 },
 "nbformat": 4,
 "nbformat_minor": 0
}
